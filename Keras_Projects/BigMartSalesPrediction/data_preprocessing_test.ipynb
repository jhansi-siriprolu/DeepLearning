{
 "cells": [
  {
   "cell_type": "code",
   "execution_count": 1,
   "metadata": {},
   "outputs": [],
   "source": [
    "import pandas as pd\n",
    "import numpy as np\n",
    "import keras\n",
    "from sklearn.model_selection import train_test_split"
   ]
  },
  {
   "cell_type": "code",
   "execution_count": 2,
   "metadata": {},
   "outputs": [],
   "source": [
    "from keras.layers import InputLayer, Dense"
   ]
  },
  {
   "cell_type": "code",
   "execution_count": 3,
   "metadata": {},
   "outputs": [
    {
     "name": "stdout",
     "output_type": "stream",
     "text": [
      "<class 'pandas.core.frame.DataFrame'>\n",
      "RangeIndex: 5681 entries, 0 to 5680\n",
      "Data columns (total 11 columns):\n",
      " #   Column                     Non-Null Count  Dtype  \n",
      "---  ------                     --------------  -----  \n",
      " 0   Item_Identifier            5681 non-null   object \n",
      " 1   Item_Weight                4705 non-null   float64\n",
      " 2   Item_Fat_Content           5681 non-null   object \n",
      " 3   Item_Visibility            5681 non-null   float64\n",
      " 4   Item_Type                  5681 non-null   object \n",
      " 5   Item_MRP                   5681 non-null   float64\n",
      " 6   Outlet_Identifier          5681 non-null   object \n",
      " 7   Outlet_Establishment_Year  5681 non-null   int64  \n",
      " 8   Outlet_Size                4075 non-null   object \n",
      " 9   Outlet_Location_Type       5681 non-null   object \n",
      " 10  Outlet_Type                5681 non-null   object \n",
      "dtypes: float64(3), int64(1), object(7)\n",
      "memory usage: 488.3+ KB\n"
     ]
    }
   ],
   "source": [
    "df = pd.read_csv(\"test.csv\")\n",
    "df.info()"
   ]
  },
  {
   "cell_type": "code",
   "execution_count": 4,
   "metadata": {},
   "outputs": [],
   "source": [
    "high_col = [col for col in df.select_dtypes(\"O\").columns if len(df[col].unique()) > 500]"
   ]
  },
  {
   "cell_type": "code",
   "execution_count": 5,
   "metadata": {},
   "outputs": [
    {
     "name": "stdout",
     "output_type": "stream",
     "text": [
      "['Item_Identifier']\n"
     ]
    }
   ],
   "source": [
    "print(high_col)"
   ]
  },
  {
   "cell_type": "code",
   "execution_count": 6,
   "metadata": {},
   "outputs": [],
   "source": [
    "cat_cols = df.select_dtypes(include = \"O\").columns\n",
    "cat_na = [col for col in df.columns if df[col].isnull().sum() > 0 and len(df[col].unique()) < 20]"
   ]
  },
  {
   "cell_type": "code",
   "execution_count": 7,
   "metadata": {},
   "outputs": [],
   "source": [
    "for col in cat_na:\n",
    "    df[col].fillna(df[col].mode()[0], inplace = True)"
   ]
  },
  {
   "cell_type": "code",
   "execution_count": 8,
   "metadata": {},
   "outputs": [
    {
     "data": {
      "text/plain": [
       "['Item_Weight']"
      ]
     },
     "execution_count": 8,
     "metadata": {},
     "output_type": "execute_result"
    }
   ],
   "source": [
    "num_na = [col for col in df.columns if df[col].isnull().sum()>0]\n",
    "num_na"
   ]
  },
  {
   "cell_type": "code",
   "execution_count": 9,
   "metadata": {},
   "outputs": [],
   "source": [
    "for col in num_na:\n",
    "    df[col].fillna(df[col].mean(), inplace=True)"
   ]
  },
  {
   "cell_type": "code",
   "execution_count": 10,
   "metadata": {},
   "outputs": [],
   "source": [
    "cat_label_cols = [col for col in cat_cols if len(df[col].unique()) < 10]"
   ]
  },
  {
   "cell_type": "code",
   "execution_count": 11,
   "metadata": {},
   "outputs": [
    {
     "data": {
      "text/plain": [
       "['Item_Fat_Content', 'Outlet_Size', 'Outlet_Location_Type', 'Outlet_Type']"
      ]
     },
     "execution_count": 11,
     "metadata": {},
     "output_type": "execute_result"
    }
   ],
   "source": [
    "cat_label_cols"
   ]
  },
  {
   "cell_type": "code",
   "execution_count": 12,
   "metadata": {},
   "outputs": [
    {
     "name": "stdout",
     "output_type": "stream",
     "text": [
      "Item_Fat_Content\n",
      "Low Fat    3396\n",
      "Regular    1935\n",
      "LF          206\n",
      "reg          78\n",
      "low fat      66\n",
      "Name: Item_Fat_Content, dtype: int64\n",
      "\n",
      "Outlet_Size\n",
      "Medium    3468\n",
      "Small     1592\n",
      "High       621\n",
      "Name: Outlet_Size, dtype: int64\n",
      "\n",
      "Outlet_Location_Type\n",
      "Tier 3    2233\n",
      "Tier 2    1856\n",
      "Tier 1    1592\n",
      "Name: Outlet_Location_Type, dtype: int64\n",
      "\n",
      "Outlet_Type\n",
      "Supermarket Type1    3717\n",
      "Grocery Store         722\n",
      "Supermarket Type3     624\n",
      "Supermarket Type2     618\n",
      "Name: Outlet_Type, dtype: int64\n",
      "\n"
     ]
    }
   ],
   "source": [
    "for col in cat_label_cols:\n",
    "    print(col)\n",
    "    print(df[col].value_counts())\n",
    "    print()"
   ]
  },
  {
   "cell_type": "code",
   "execution_count": 13,
   "metadata": {},
   "outputs": [],
   "source": [
    "Item_Fat_Content_mappings = {\"Low Fat\" : 0,\"low fat\" : 0, \"reg\" : 1, \"Regular\" : 1,\n",
    "                             \"LF\": 0}\n",
    "outlet_size_mapping = {\"Small\": 0, \"Medium\": 1, \"High\": 2}\n",
    "from sklearn.preprocessing import LabelEncoder, OneHotEncoder"
   ]
  },
  {
   "cell_type": "code",
   "execution_count": 14,
   "metadata": {},
   "outputs": [],
   "source": [
    "df[\"Item_Fat_Content\"] = df[\"Item_Fat_Content\"].map(Item_Fat_Content_mappings)\n",
    "\n",
    "df[\"Outlet_Size\"] = df[\"Outlet_Size\"].map(outlet_size_mapping)\n",
    "df[\"Outlet_Location_Type\"] = df[\"Outlet_Location_Type\"].map({\"Tier 1\": 0, \"Tier 2\": 1, \"Tier 3\": 2})\n",
    "df[\"Outlet_Type\"] = df[\"Outlet_Type\"].map({\"Supermarket Type1\": 1,\"Grocery Store\": 2,\"Supermarket Type3\": 3,\"Supermarket Type2\": 4})\n",
    "\n"
   ]
  },
  {
   "cell_type": "code",
   "execution_count": 15,
   "metadata": {},
   "outputs": [
    {
     "name": "stdout",
     "output_type": "stream",
     "text": [
      "<class 'pandas.core.frame.DataFrame'>\n",
      "RangeIndex: 5681 entries, 0 to 5680\n",
      "Data columns (total 11 columns):\n",
      " #   Column                     Non-Null Count  Dtype  \n",
      "---  ------                     --------------  -----  \n",
      " 0   Item_Identifier            5681 non-null   object \n",
      " 1   Item_Weight                5681 non-null   float64\n",
      " 2   Item_Fat_Content           5681 non-null   int64  \n",
      " 3   Item_Visibility            5681 non-null   float64\n",
      " 4   Item_Type                  5681 non-null   object \n",
      " 5   Item_MRP                   5681 non-null   float64\n",
      " 6   Outlet_Identifier          5681 non-null   object \n",
      " 7   Outlet_Establishment_Year  5681 non-null   int64  \n",
      " 8   Outlet_Size                5681 non-null   int64  \n",
      " 9   Outlet_Location_Type       5681 non-null   int64  \n",
      " 10  Outlet_Type                5681 non-null   int64  \n",
      "dtypes: float64(3), int64(5), object(3)\n",
      "memory usage: 488.3+ KB\n"
     ]
    }
   ],
   "source": [
    "df.info()"
   ]
  },
  {
   "cell_type": "code",
   "execution_count": 16,
   "metadata": {},
   "outputs": [
    {
     "data": {
      "text/plain": [
       "Index(['Item_Identifier', 'Item_Weight', 'Item_Fat_Content', 'Item_Visibility',\n",
       "       'Item_Type', 'Item_MRP', 'Outlet_Identifier',\n",
       "       'Outlet_Establishment_Year', 'Outlet_Size', 'Outlet_Location_Type',\n",
       "       'Outlet_Type'],\n",
       "      dtype='object')"
      ]
     },
     "execution_count": 16,
     "metadata": {},
     "output_type": "execute_result"
    }
   ],
   "source": [
    "df.columns"
   ]
  },
  {
   "cell_type": "code",
   "execution_count": 17,
   "metadata": {},
   "outputs": [],
   "source": [
    "cat_cols = df.select_dtypes(\"O\").columns\n",
    "df = df.drop(\"Item_Identifier\", axis = 1)\n",
    "df_oh = pd.get_dummies(df)"
   ]
  },
  {
   "cell_type": "code",
   "execution_count": 18,
   "metadata": {},
   "outputs": [],
   "source": [
    "# X = df_oh.drop(\"Item_Outlet_Sales\", axis = 1)\n",
    "# y = df_oh[\"Item_Outlet_Sales\"]\n",
    "# X_train, X_test, y_train, y_test = train_test_split(X,y, random_state=42)"
   ]
  },
  {
   "cell_type": "code",
   "execution_count": 19,
   "metadata": {},
   "outputs": [],
   "source": [
    "# from sklearn.preprocessing import StandardScaler\n",
    "# scaler = StandardScaler()\n",
    "# scaler_train = scaler.fit(X_train)\n",
    "# scaler_train.transform(X_train)\n",
    "# scaler_train.transform(X_test)"
   ]
  },
  {
   "cell_type": "code",
   "execution_count": 20,
   "metadata": {},
   "outputs": [],
   "source": [
    "def scaler_columns(df):\n",
    "    for col in df.columns:\n",
    "        min_val = df[col].min()\n",
    "        max_val = df[col].max()\n",
    "        # print(min_val, max_val)\n",
    "        df[col] = (df[col] - min_val)/(max_val- min_val)\n",
    "    return df"
   ]
  },
  {
   "cell_type": "code",
   "execution_count": 21,
   "metadata": {},
   "outputs": [],
   "source": [
    "X_train = scaler_columns(df_oh.drop(\"Outlet_Establishment_Year\", axis = 1))"
   ]
  },
  {
   "cell_type": "code",
   "execution_count": 22,
   "metadata": {},
   "outputs": [],
   "source": [
    "df_final = pd.concat([X_train, df_oh[\"Outlet_Establishment_Year\"]], axis=1)"
   ]
  },
  {
   "cell_type": "code",
   "execution_count": 23,
   "metadata": {},
   "outputs": [
    {
     "name": "stdout",
     "output_type": "stream",
     "text": [
      "<class 'pandas.core.frame.DataFrame'>\n",
      "RangeIndex: 5681 entries, 0 to 5680\n",
      "Data columns (total 34 columns):\n",
      " #   Column                           Non-Null Count  Dtype  \n",
      "---  ------                           --------------  -----  \n",
      " 0   Item_Weight                      5681 non-null   float64\n",
      " 1   Item_Fat_Content                 5681 non-null   float64\n",
      " 2   Item_Visibility                  5681 non-null   float64\n",
      " 3   Item_MRP                         5681 non-null   float64\n",
      " 4   Outlet_Size                      5681 non-null   float64\n",
      " 5   Outlet_Location_Type             5681 non-null   float64\n",
      " 6   Outlet_Type                      5681 non-null   float64\n",
      " 7   Item_Type_Baking Goods           5681 non-null   float64\n",
      " 8   Item_Type_Breads                 5681 non-null   float64\n",
      " 9   Item_Type_Breakfast              5681 non-null   float64\n",
      " 10  Item_Type_Canned                 5681 non-null   float64\n",
      " 11  Item_Type_Dairy                  5681 non-null   float64\n",
      " 12  Item_Type_Frozen Foods           5681 non-null   float64\n",
      " 13  Item_Type_Fruits and Vegetables  5681 non-null   float64\n",
      " 14  Item_Type_Hard Drinks            5681 non-null   float64\n",
      " 15  Item_Type_Health and Hygiene     5681 non-null   float64\n",
      " 16  Item_Type_Household              5681 non-null   float64\n",
      " 17  Item_Type_Meat                   5681 non-null   float64\n",
      " 18  Item_Type_Others                 5681 non-null   float64\n",
      " 19  Item_Type_Seafood                5681 non-null   float64\n",
      " 20  Item_Type_Snack Foods            5681 non-null   float64\n",
      " 21  Item_Type_Soft Drinks            5681 non-null   float64\n",
      " 22  Item_Type_Starchy Foods          5681 non-null   float64\n",
      " 23  Outlet_Identifier_OUT010         5681 non-null   float64\n",
      " 24  Outlet_Identifier_OUT013         5681 non-null   float64\n",
      " 25  Outlet_Identifier_OUT017         5681 non-null   float64\n",
      " 26  Outlet_Identifier_OUT018         5681 non-null   float64\n",
      " 27  Outlet_Identifier_OUT019         5681 non-null   float64\n",
      " 28  Outlet_Identifier_OUT027         5681 non-null   float64\n",
      " 29  Outlet_Identifier_OUT035         5681 non-null   float64\n",
      " 30  Outlet_Identifier_OUT045         5681 non-null   float64\n",
      " 31  Outlet_Identifier_OUT046         5681 non-null   float64\n",
      " 32  Outlet_Identifier_OUT049         5681 non-null   float64\n",
      " 33  Outlet_Establishment_Year        5681 non-null   int64  \n",
      "dtypes: float64(33), int64(1)\n",
      "memory usage: 1.5 MB\n"
     ]
    }
   ],
   "source": [
    "df_final.info()"
   ]
  },
  {
   "cell_type": "code",
   "execution_count": 24,
   "metadata": {},
   "outputs": [],
   "source": [
    "df_final.to_csv(\"test_preprocessed_data.csv\", index= False)"
   ]
  },
  {
   "cell_type": "code",
   "execution_count": null,
   "metadata": {},
   "outputs": [],
   "source": []
  }
 ],
 "metadata": {
  "kernelspec": {
   "display_name": "base",
   "language": "python",
   "name": "python3"
  },
  "language_info": {
   "codemirror_mode": {
    "name": "ipython",
    "version": 3
   },
   "file_extension": ".py",
   "mimetype": "text/x-python",
   "name": "python",
   "nbconvert_exporter": "python",
   "pygments_lexer": "ipython3",
   "version": "3.11.7"
  }
 },
 "nbformat": 4,
 "nbformat_minor": 2
}
