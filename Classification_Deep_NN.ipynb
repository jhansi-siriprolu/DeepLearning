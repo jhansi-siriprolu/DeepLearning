{
 "cells": [
  {
   "cell_type": "code",
   "execution_count": 1,
   "metadata": {},
   "outputs": [],
   "source": [
    "import pandas as pd\n",
    "import numpy as np\n",
    "import torch.nn as nn\n",
    "import torch\n",
    "import torch.optim as optim\n",
    "from torch.utils.data import DataLoader, TensorDataset, Dataset\n",
    "from sklearn.compose import ColumnTransformer\n",
    "from sklearn.preprocessing import OneHotEncoder, StandardScaler, LabelEncoder"
   ]
  },
  {
   "cell_type": "markdown",
   "metadata": {},
   "source": [
    "### To repdict whether a person is looking for job change or not using demographics and relatable information"
   ]
  },
  {
   "cell_type": "code",
   "execution_count": 2,
   "metadata": {},
   "outputs": [
    {
     "name": "stdout",
     "output_type": "stream",
     "text": [
      "<class 'pandas.core.frame.DataFrame'>\n",
      "RangeIndex: 18359 entries, 0 to 18358\n",
      "Data columns (total 14 columns):\n",
      " #   Column                  Non-Null Count  Dtype  \n",
      "---  ------                  --------------  -----  \n",
      " 0   enrollee_id             18359 non-null  int64  \n",
      " 1   city                    18359 non-null  object \n",
      " 2   city_development_index  18359 non-null  float64\n",
      " 3   gender                  14261 non-null  object \n",
      " 4   relevent_experience     18359 non-null  object \n",
      " 5   enrolled_university     18017 non-null  object \n",
      " 6   education_level         17902 non-null  object \n",
      " 7   major_discipline        15521 non-null  object \n",
      " 8   experience              18300 non-null  object \n",
      " 9   company_size            13580 non-null  object \n",
      " 10  company_type            13320 non-null  object \n",
      " 11  last_new_job            17992 non-null  object \n",
      " 12  training_hours          18359 non-null  int64  \n",
      " 13  target                  18359 non-null  int64  \n",
      "dtypes: float64(1), int64(3), object(10)\n",
      "memory usage: 2.0+ MB\n"
     ]
    }
   ],
   "source": [
    "df = pd.read_csv(\"Zeta_Analytics Dataset.csv\")\n",
    "df.info()"
   ]
  },
  {
   "cell_type": "markdown",
   "metadata": {},
   "source": [
    "## Data Preprocessing"
   ]
  },
  {
   "cell_type": "code",
   "execution_count": 3,
   "metadata": {},
   "outputs": [],
   "source": [
    "df.drop([\"city\", \"enrollee_id\"], axis = 1, inplace = True)\n",
    "# df[\"experience\"] = df[\"experience\"].astype(\"int\")"
   ]
  },
  {
   "cell_type": "code",
   "execution_count": 4,
   "metadata": {},
   "outputs": [],
   "source": [
    "cat_cols = df.select_dtypes(\"O\").columns\n",
    "num_cols = [col for col in df.columns if col not in cat_cols]\n",
    "cat_na = [col for col in cat_cols if df[col].isnull().any()]\n",
    "num_na = [col for col in num_cols if df[col].isnull().any()]"
   ]
  },
  {
   "cell_type": "code",
   "execution_count": 5,
   "metadata": {},
   "outputs": [],
   "source": [
    "df[cat_na] = df[cat_na].fillna(\"NA\")\n"
   ]
  },
  {
   "cell_type": "code",
   "execution_count": 6,
   "metadata": {},
   "outputs": [],
   "source": [
    "map_company_size = {\"50-99\" : 3,\n",
    "                    \"100-500\" : 4,\n",
    "                    \"10000+\": 8,\n",
    "                    \"10/49  \" : 2,\n",
    "                    \"1000-4999\" : 6,\n",
    "                    \"<10\" : 1  , \n",
    "                    \"500-999\"  : 5,\n",
    "                    \"5000-9999\" : 7,\n",
    "                    \"NA\": 0}\n",
    "df[\"company_size\"] = df[\"company_size\"].map(map_company_size)\n",
    "\n",
    "tx = [\"experience\",\"last_new_job\"]\n",
    "for col in tx:\n",
    "    df[col] = df[col].astype(\"str\").str.replace(\">\",\"\").replace(\"<\",\"\").replace(\"never\",0).replace(\"<1\",0).replace(\"NA\",-1)\n",
    "    df[col] = df[col].astype(\"int\")"
   ]
  },
  {
   "cell_type": "code",
   "execution_count": 7,
   "metadata": {},
   "outputs": [
    {
     "name": "stdout",
     "output_type": "stream",
     "text": [
      "<class 'pandas.core.frame.DataFrame'>\n",
      "RangeIndex: 18359 entries, 0 to 18358\n",
      "Data columns (total 12 columns):\n",
      " #   Column                  Non-Null Count  Dtype  \n",
      "---  ------                  --------------  -----  \n",
      " 0   city_development_index  18359 non-null  float64\n",
      " 1   gender                  18359 non-null  object \n",
      " 2   relevent_experience     18359 non-null  object \n",
      " 3   enrolled_university     18359 non-null  object \n",
      " 4   education_level         18359 non-null  object \n",
      " 5   major_discipline        18359 non-null  object \n",
      " 6   experience              18359 non-null  int32  \n",
      " 7   company_size            16893 non-null  float64\n",
      " 8   company_type            18359 non-null  object \n",
      " 9   last_new_job            18359 non-null  int32  \n",
      " 10  training_hours          18359 non-null  int64  \n",
      " 11  target                  18359 non-null  int64  \n",
      "dtypes: float64(2), int32(2), int64(2), object(6)\n",
      "memory usage: 1.5+ MB\n"
     ]
    }
   ],
   "source": [
    "df[\"education_level\"].value_counts()\n",
    "map_edu_levels = {\"Primary School\": 1,\n",
    "                  \"High School\": 2,\n",
    "                  \"Graduate\": 3,\n",
    "                  \"Masters\": 4,\n",
    "                  \"Phd\": 5,\n",
    "                  \"NA\": 0}\n",
    "df.info()"
   ]
  },
  {
   "cell_type": "markdown",
   "metadata": {},
   "source": [
    "### One hot encoding"
   ]
  },
  {
   "cell_type": "code",
   "execution_count": 8,
   "metadata": {},
   "outputs": [],
   "source": [
    "df = pd.get_dummies(df, drop_first=True)"
   ]
  },
  {
   "cell_type": "code",
   "execution_count": 9,
   "metadata": {},
   "outputs": [
    {
     "data": {
      "text/plain": [
       "Index(['city_development_index', 'experience', 'company_size', 'last_new_job',\n",
       "       'training_hours', 'target', 'gender_Male', 'gender_NA', 'gender_Other',\n",
       "       'relevent_experience_No relevent experience', 'enrolled_university_NA',\n",
       "       'enrolled_university_Part time course',\n",
       "       'enrolled_university_no_enrollment', 'education_level_High School',\n",
       "       'education_level_Masters', 'education_level_NA', 'education_level_Phd',\n",
       "       'education_level_Primary School', 'major_discipline_Business Degree',\n",
       "       'major_discipline_Humanities', 'major_discipline_NA',\n",
       "       'major_discipline_No Major', 'major_discipline_Other',\n",
       "       'major_discipline_STEM', 'company_type_Funded Startup',\n",
       "       'company_type_NA', 'company_type_NGO', 'company_type_Other',\n",
       "       'company_type_Public Sector', 'company_type_Pvt Ltd'],\n",
       "      dtype='object')"
      ]
     },
     "execution_count": 9,
     "metadata": {},
     "output_type": "execute_result"
    }
   ],
   "source": [
    "df.columns"
   ]
  },
  {
   "cell_type": "code",
   "execution_count": 10,
   "metadata": {},
   "outputs": [],
   "source": [
    "X = df.drop(\"target\", axis = 1)\n",
    "y = df[\"target\"]"
   ]
  },
  {
   "cell_type": "code",
   "execution_count": 11,
   "metadata": {},
   "outputs": [],
   "source": [
    "from sklearn.model_selection import train_test_split\n",
    "X_train,X_test, y_train, y_test = train_test_split(X,y,test_size = 0.2, random_state = 42)"
   ]
  },
  {
   "cell_type": "code",
   "execution_count": 12,
   "metadata": {},
   "outputs": [],
   "source": [
    "exp_median = df[\"experience\"].median()\n",
    "last_new_job_median = df[\"last_new_job\"].median()\n",
    "median_company_size = df[\"company_size\"].median()\n",
    "## inputing numeric null values after train test split to avoid data leakage\n",
    "X_train[\"experience\"]  = X_train[\"experience\"].fillna(exp_median)\n",
    "X_train[\"last_new_job\"] = X_train[\"last_new_job\"].fillna(last_new_job_median)\n",
    "X_train[\"company_size\"] = X_train[\"company_size\"].fillna(median_company_size)\n",
    "#test data\n",
    "X_test[\"experience\"]  = X_test[\"experience\"].fillna(exp_median)\n",
    "X_test[\"last_new_job\"] = X_test[\"last_new_job\"].fillna(last_new_job_median)\n",
    "X_test[\"company_size\"] = X_test[\"company_size\"].fillna(median_company_size)"
   ]
  },
  {
   "cell_type": "code",
   "execution_count": 13,
   "metadata": {},
   "outputs": [],
   "source": [
    "# Normalize data by scaling the train and test datasets\n",
    "from sklearn.preprocessing import MinMaxScaler\n",
    "scaler = MinMaxScaler()\n",
    "X_train = scaler.fit_transform(X_train)\n",
    "X_test = scaler.transform(X_test)\n",
    "y_train = y_train.values\n",
    "y_test = y_test.values"
   ]
  },
  {
   "cell_type": "code",
   "execution_count": 14,
   "metadata": {},
   "outputs": [
    {
     "data": {
      "text/plain": [
       "0    15934\n",
       "1     2425\n",
       "Name: target, dtype: int64"
      ]
     },
     "execution_count": 14,
     "metadata": {},
     "output_type": "execute_result"
    }
   ],
   "source": [
    "df.target.value_counts()"
   ]
  },
  {
   "cell_type": "markdown",
   "metadata": {},
   "source": [
    "### Define classes for our dataset and neural network"
   ]
  },
  {
   "cell_type": "code",
   "execution_count": 17,
   "metadata": {},
   "outputs": [],
   "source": [
    "from sklearn.metrics import roc_auc_score\n",
    "import matplotlib.pyplot as plt\n",
    "\n",
    "# Encapsulate out dataset as a class, which inherits from the torch Dataset class\n",
    "class ChangeDataset(Dataset):\n",
    "    def __init__(self, features, labels):\n",
    "        self.features = features\n",
    "        self.labels = labels\n",
    "\n",
    "    def __len__(self):\n",
    "        return len(self.features)\n",
    "\n",
    "    def __getitem__(self, idx):\n",
    "        return self.features[idx], self.labels[idx]"
   ]
  },
  {
   "cell_type": "code",
   "execution_count": 18,
   "metadata": {},
   "outputs": [],
   "source": [
    "# Define the neural network Model\n",
    "class BinaryClassifier(nn.Module):\n",
    "    def __init__(self):\n",
    "        super(BinaryClassifier, self).__init__()\n",
    "        self.layer1 = nn.Linear(X_train.shape[1], 256)\n",
    "        self.layer2 = nn.Linear(256, 128)\n",
    "        self.layer3 = nn.Linear(128, 64)\n",
    "        self.layer4 = nn.Linear(64, 1)\n",
    "        \n",
    "    def forward(self, x):\n",
    "        x = nn.functional.relu(self.layer1(x))\n",
    "        x = nn.functional.relu(self.layer2(x))\n",
    "        x = nn.functional.relu(self.layer3(x))\n",
    "        x = nn.functional.sigmoid(self.layer4(x))\n",
    "        return x"
   ]
  },
  {
   "cell_type": "code",
   "execution_count": 19,
   "metadata": {},
   "outputs": [],
   "source": [
    "import torch\n",
    "# Convert numpy to PyTorch tensors\n",
    "X_train_tensor = torch.tensor(X_train, dtype=torch.float32)\n",
    "y_train_tensor = torch.tensor(y_train, dtype=torch.float32)\n",
    "X_test_tensor = torch.tensor(X_test, dtype=torch.float32)\n",
    "y_test_tensor = torch.tensor(y_test, dtype=torch.float32)"
   ]
  },
  {
   "cell_type": "code",
   "execution_count": 20,
   "metadata": {},
   "outputs": [],
   "source": [
    "\n",
    "def evaluate_and_train_nn_model(model, optimizer, batch_size = 128 , epochs = 25, print_every = 5):\n",
    "    model.train() #setting model to train\n",
    "\n",
    "    train_loss_list = []\n",
    "    test_loss_list = []\n",
    "    train_auc_list = []\n",
    "    test_auc_list = [] #AUC score is used as evaluation metric as target data is imbalanced\n",
    "    \n",
    "    ##Convert tensor data into torch based objects\n",
    "        # Convert the tensor based data to torch Dataset objects\n",
    "    train_dataset = ChangeDataset(X_train_tensor, y_train_tensor)\n",
    "    # Define torch data loader objects for these datasets\n",
    "    train_loader = DataLoader(dataset=train_dataset, batch_size=batch_size, shuffle=True)\n",
    "    \n",
    "    test_dataset = ChangeDataset(X_test_tensor, y_test_tensor)\n",
    "    test_loader = DataLoader(dataset=test_dataset, batch_size=batch_size, shuffle=False)\n",
    "\n",
    "    criterion = nn.BCELoss()\n",
    "\n",
    "    # Train for the defined number of epochs\n",
    "    for epoch in range(epochs):\n",
    "        train_loss = 0.0\n",
    "        for i, (features, labels) in enumerate(train_loader):\n",
    "            optimizer.zero_grad() # Clear the gradients of all optimized variables\n",
    "            outputs = model(features) # pass our data(input features) through the model\n",
    "            loss = criterion(outputs.squeeze(), labels) # calculate the loss between model outputs and expected labels\n",
    "            loss.backward() # Backward pass: compute the gradient of the loss with respect to model parameters\n",
    "            optimizer.step() # Perform a single optimization step (parameter update)\n",
    "            train_loss += loss.item() # Accumulate the training loss to later calculate the average\n",
    "        \n",
    "        # Calculate the average training loss for current epoch\n",
    "        train_loss = train_loss / len(train_loader)\n",
    "        train_loss_list.append(train_loss)\n",
    "\n",
    "        # Evaluate on test set\n",
    "        model.eval() # Switch model to evaluation mode\n",
    "\n",
    "\n",
    "        \n",
    "        test_loss = 0.0\n",
    "        # Disable gradient calculation for evaluation to save memory and computations\n",
    "        with torch.no_grad():\n",
    "            # Iterate over the test dataset\n",
    "            for features, labels in test_loader:\n",
    "                outputs = model(features) # Forward pass: compute the output of the model by passing the input features\n",
    "                loss = criterion(outputs.squeeze(), labels) # Calculate the loss between the model output and expected labels\n",
    "                test_loss += loss.item() # Accumulate the test loss to later calculate the average\n",
    "            train_auc = roc_auc_score(y_train_tensor, model(X_train_tensor))\n",
    "            test_auc = roc_auc_score(y_test_tensor, model(X_test_tensor))\n",
    "        \n",
    "        # Calculate test loss for epoch\n",
    "        test_loss = test_loss / len(test_loader)\n",
    "        test_loss_list.append(test_loss)\n",
    "\n",
    "        # Print losses\n",
    "        if (epoch + 1) % print_every == 0:\n",
    "            print(f'Epoch {epoch+1}/{epochs},Train Loss: {train_loss:.4f}, Test Loss: {test_loss:.4f}, Train Auc: {train_auc:.4f}, Test Auc: {test_auc:.4f}')\n",
    "\n",
    "    plt.plot(range(epochs),train_loss_list, label = 'train')\n",
    "    plt.plot(range(epochs),test_loss_list, label = 'test')\n",
    "    plt.xlabel('Epochs')\n",
    "    plt.ylabel('Loss')\n",
    "    plt.title('Training and Test Loss')\n",
    "    plt.legend()\n",
    "    plt.show()"
   ]
  },
  {
   "cell_type": "code",
   "execution_count": 21,
   "metadata": {},
   "outputs": [
    {
     "name": "stdout",
     "output_type": "stream",
     "text": [
      "Epoch 10/100,Train Loss: 0.3737, Test Loss: 0.3852, Train Auc: 0.6473, Test Auc: 0.6353\n",
      "Epoch 20/100,Train Loss: 0.3703, Test Loss: 0.3831, Train Auc: 0.6623, Test Auc: 0.6455\n",
      "Epoch 30/100,Train Loss: 0.3682, Test Loss: 0.3826, Train Auc: 0.6709, Test Auc: 0.6448\n",
      "Epoch 40/100,Train Loss: 0.3663, Test Loss: 0.3826, Train Auc: 0.6794, Test Auc: 0.6456\n",
      "Epoch 50/100,Train Loss: 0.3641, Test Loss: 0.3826, Train Auc: 0.6880, Test Auc: 0.6477\n",
      "Epoch 60/100,Train Loss: 0.3617, Test Loss: 0.3822, Train Auc: 0.6987, Test Auc: 0.6514\n",
      "Epoch 70/100,Train Loss: 0.3593, Test Loss: 0.3828, Train Auc: 0.7105, Test Auc: 0.6506\n",
      "Epoch 80/100,Train Loss: 0.3550, Test Loss: 0.3893, Train Auc: 0.7199, Test Auc: 0.6436\n",
      "Epoch 90/100,Train Loss: 0.3530, Test Loss: 0.3891, Train Auc: 0.7279, Test Auc: 0.6459\n",
      "Epoch 100/100,Train Loss: 0.3487, Test Loss: 0.3888, Train Auc: 0.7453, Test Auc: 0.6397\n"
     ]
    },
    {
     "data": {
      "image/png": "[encoded data removed]",
      "text/plain": [
       "<Figure size 640x480 with 1 Axes>"
      ]
     },
     "metadata": {},
     "output_type": "display_data"
    }
   ],
   "source": [
    "# We have to create a new model class here due the pass-by-reference feature of python functions\n",
    "model = BinaryClassifier()\n",
    "# Initialize SGD optimizer\n",
    "opt = optim.SGD(model.parameters(), lr=0.01, momentum=0.9, nesterov=True)\n",
    "# Train using optimizer_sgd\n",
    "evaluate_and_train_nn_model(model, optimizer = opt, epochs=100, print_every=10)"
   ]
  },
  {
   "cell_type": "code",
   "execution_count": 22,
   "metadata": {},
   "outputs": [
    {
     "name": "stdout",
     "output_type": "stream",
     "text": [
      "Epoch 10/100,Train Loss: 0.3630, Test Loss: 0.3847, Train Auc: 0.6997, Test Auc: 0.6420\n",
      "Epoch 20/100,Train Loss: 0.3462, Test Loss: 0.4048, Train Auc: 0.7381, Test Auc: 0.6211\n",
      "Epoch 30/100,Train Loss: 0.3285, Test Loss: 0.4498, Train Auc: 0.7762, Test Auc: 0.5948\n",
      "Epoch 40/100,Train Loss: 0.3071, Test Loss: 0.5042, Train Auc: 0.8156, Test Auc: 0.5819\n",
      "Epoch 50/100,Train Loss: 0.2860, Test Loss: 0.6072, Train Auc: 0.8462, Test Auc: 0.5657\n",
      "Epoch 60/100,Train Loss: 0.2602, Test Loss: 0.7206, Train Auc: 0.8723, Test Auc: 0.5508\n",
      "Epoch 70/100,Train Loss: 0.2406, Test Loss: 0.8388, Train Auc: 0.8970, Test Auc: 0.5401\n",
      "Epoch 80/100,Train Loss: 0.2276, Test Loss: 0.9202, Train Auc: 0.9088, Test Auc: 0.5336\n",
      "Epoch 90/100,Train Loss: 0.2104, Test Loss: 1.1262, Train Auc: 0.9205, Test Auc: 0.5355\n",
      "Epoch 100/100,Train Loss: 0.2113, Test Loss: 1.2071, Train Auc: 0.9263, Test Auc: 0.5261\n"
     ]
    },
    {
     "data": {
      "image/png": "[encoded data removed]",
      "text/plain": [
       "<Figure size 640x480 with 1 Axes>"
      ]
     },
     "metadata": {},
     "output_type": "display_data"
    }
   ],
   "source": [
    "model = BinaryClassifier()\n",
    "# Initialize SGD optimizer\n",
    "opt = optim.Adam(model.parameters())\n",
    "# Train using optimizer_sgd\n",
    "evaluate_and_train_nn_model(model, opt, epochs=100, print_every=10)"
   ]
  },
  {
   "cell_type": "code",
   "execution_count": null,
   "metadata": {},
   "outputs": [],
   "source": []
  }
 ],
 "metadata": {
  "kernelspec": {
   "display_name": "base",
   "language": "python",
   "name": "python3"
  },
  "language_info": {
   "codemirror_mode": {
    "name": "ipython",
    "version": 3
   },
   "file_extension": ".py",
   "mimetype": "text/x-python",
   "name": "python",
   "nbconvert_exporter": "python",
   "pygments_lexer": "ipython3",
   "version": "3.11.7"
  }
 },
 "nbformat": 4,
 "nbformat_minor": 2
}
