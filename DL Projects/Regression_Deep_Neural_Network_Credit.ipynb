{
 "cells": [
  {
   "cell_type": "markdown",
   "metadata": {},
   "source": [
    "### Predict customers future Credit spend based on historical spend data and demographics"
   ]
  },
  {
   "cell_type": "code",
   "execution_count": 1,
   "metadata": {},
   "outputs": [],
   "source": [
    "import pandas as pd\n",
    "import torch.nn as nn\n",
    "import torch.optim as optim\n",
    "from sklearn.model_selection import train_test_split\n",
    "from sklearn.preprocessing import StandardScaler, OneHotEncoder\n",
    "import torch.nn.functional as F"
   ]
  },
  {
   "cell_type": "markdown",
   "metadata": {},
   "source": [
    "### Bigger the model with more nodes in hidden layers, and high numer of epochs the model performance improves\n",
    "### Also tweaking the learning rate and using different activation functions would improve models performance."
   ]
  },
  {
   "cell_type": "code",
   "execution_count": 2,
   "metadata": {},
   "outputs": [],
   "source": [
    "df = pd.read_csv(\"Bank of Trust Dataset.csv\")"
   ]
  },
  {
   "cell_type": "code",
   "execution_count": 3,
   "metadata": {},
   "outputs": [
    {
     "name": "stdout",
     "output_type": "stream",
     "text": [
      "<class 'pandas.core.frame.DataFrame'>\n",
      "RangeIndex: 32820 entries, 0 to 32819\n",
      "Data columns (total 44 columns):\n",
      " #   Column                 Non-Null Count  Dtype  \n",
      "---  ------                 --------------  -----  \n",
      " 0   id                     32820 non-null  int64  \n",
      " 1   account_type           32820 non-null  object \n",
      " 2   gender                 32820 non-null  object \n",
      " 3   age                    32820 non-null  int64  \n",
      " 4   region_code            32820 non-null  int64  \n",
      " 5   cc_cons_apr            32820 non-null  float64\n",
      " 6   dc_cons_apr            13768 non-null  float64\n",
      " 7   cc_cons_may            32820 non-null  float64\n",
      " 8   dc_cons_may            15481 non-null  float64\n",
      " 9   cc_cons_jun            32820 non-null  float64\n",
      " 10  dc_cons_jun            11523 non-null  float64\n",
      " 11  cc_count_apr           30421 non-null  float64\n",
      " 12  cc_count_may           31667 non-null  float64\n",
      " 13  cc_count_jun           31230 non-null  float64\n",
      " 14  dc_count_apr           13768 non-null  float64\n",
      " 15  dc_count_may           15481 non-null  float64\n",
      " 16  dc_count_jun           17323 non-null  float64\n",
      " 17  card_lim               32811 non-null  float64\n",
      " 18  personal_loan_active   2742 non-null   float64\n",
      " 19  vehicle_loan_active    846 non-null    float64\n",
      " 20  personal_loan_closed   2883 non-null   float64\n",
      " 21  vehicle_loan_closed    1625 non-null   float64\n",
      " 22  investment_1           1426 non-null   float64\n",
      " 23  investment_2           2338 non-null   float64\n",
      " 24  investment_3           1332 non-null   float64\n",
      " 25  investment_4           406 non-null    float64\n",
      " 26  debit_amount_apr       30930 non-null  float64\n",
      " 27  credit_amount_apr      29518 non-null  float64\n",
      " 28  debit_count_apr        31062 non-null  float64\n",
      " 29  credit_count_apr       31062 non-null  float64\n",
      " 30  max_credit_amount_apr  29518 non-null  float64\n",
      " 31  debit_amount_may       30519 non-null  float64\n",
      " 32  credit_amount_may      29415 non-null  float64\n",
      " 33  credit_count_may       30749 non-null  float64\n",
      " 34  debit_count_may        30749 non-null  float64\n",
      " 35  max_credit_amount_may  29415 non-null  float64\n",
      " 36  debit_amount_jun       30625 non-null  float64\n",
      " 37  credit_amount_jun      31277 non-null  float64\n",
      " 38  credit_count_jun       31292 non-null  float64\n",
      " 39  debit_count_jun        31292 non-null  float64\n",
      " 40  max_credit_amount_jun  31277 non-null  float64\n",
      " 41  loan_enq               609 non-null    object \n",
      " 42  emi_active             32820 non-null  float64\n",
      " 43  cc_cons                32820 non-null  int64  \n",
      "dtypes: float64(37), int64(4), object(3)\n",
      "memory usage: 11.0+ MB\n"
     ]
    }
   ],
   "source": [
    "df.info()"
   ]
  },
  {
   "cell_type": "code",
   "execution_count": 4,
   "metadata": {},
   "outputs": [],
   "source": [
    "#There are many columns with null values\n",
    "# check for categorical_null_columns\n",
    "cat_cols = [col for col in df.columns if df[col].dtype == \"O\" ]\n",
    "cat_na = [col for col in df.columns if df[col].dtype == \"O\" and df[col].isnull().any()]"
   ]
  },
  {
   "cell_type": "code",
   "execution_count": 5,
   "metadata": {},
   "outputs": [
    {
     "data": {
      "text/plain": [
       "['loan_enq']"
      ]
     },
     "execution_count": 5,
     "metadata": {},
     "output_type": "execute_result"
    }
   ],
   "source": [
    "cat_na"
   ]
  },
  {
   "cell_type": "code",
   "execution_count": 6,
   "metadata": {},
   "outputs": [],
   "source": [
    "num_cols = [col for col in df.columns if col not in cat_cols and col not in [\"cc_cons\"]]\n",
    "num_na = [col for col in df.columns if col not in cat_cols and df[col].isnull().any() and col not in [\"cc_cons\"]]"
   ]
  },
  {
   "cell_type": "code",
   "execution_count": 7,
   "metadata": {},
   "outputs": [
    {
     "data": {
      "text/plain": [
       "['dc_cons_apr',\n",
       " 'dc_cons_may',\n",
       " 'dc_cons_jun',\n",
       " 'cc_count_apr',\n",
       " 'cc_count_may',\n",
       " 'cc_count_jun',\n",
       " 'dc_count_apr',\n",
       " 'dc_count_may',\n",
       " 'dc_count_jun',\n",
       " 'card_lim',\n",
       " 'personal_loan_active',\n",
       " 'vehicle_loan_active',\n",
       " 'personal_loan_closed',\n",
       " 'vehicle_loan_closed',\n",
       " 'investment_1',\n",
       " 'investment_2',\n",
       " 'investment_3',\n",
       " 'investment_4',\n",
       " 'debit_amount_apr',\n",
       " 'credit_amount_apr',\n",
       " 'debit_count_apr',\n",
       " 'credit_count_apr',\n",
       " 'max_credit_amount_apr',\n",
       " 'debit_amount_may',\n",
       " 'credit_amount_may',\n",
       " 'credit_count_may',\n",
       " 'debit_count_may',\n",
       " 'max_credit_amount_may',\n",
       " 'debit_amount_jun',\n",
       " 'credit_amount_jun',\n",
       " 'credit_count_jun',\n",
       " 'debit_count_jun',\n",
       " 'max_credit_amount_jun']"
      ]
     },
     "execution_count": 7,
     "metadata": {},
     "output_type": "execute_result"
    }
   ],
   "source": [
    "num_na"
   ]
  },
  {
   "cell_type": "code",
   "execution_count": 8,
   "metadata": {},
   "outputs": [],
   "source": [
    "df[num_na] = df[num_na].fillna(0)\n",
    "df[cat_na] = df[cat_na].fillna('N')"
   ]
  },
  {
   "cell_type": "code",
   "execution_count": 9,
   "metadata": {},
   "outputs": [],
   "source": [
    "X = df.drop('cc_cons', axis = 1)\n",
    "y = df['cc_cons']"
   ]
  },
  {
   "cell_type": "code",
   "execution_count": 10,
   "metadata": {},
   "outputs": [],
   "source": [
    "from sklearn.compose import ColumnTransformer\n",
    "scaler = StandardScaler()\n",
    "ohe = OneHotEncoder(handle_unknown='ignore')\n",
    "## Setting Preprocessor Pipeline\n",
    "preprocessor = ColumnTransformer(transformers=[\n",
    "    (\"num\", scaler, num_cols),\n",
    "    (\"cat\",ohe,cat_cols)\n",
    "])\n",
    "\n",
    "X_train, X_test, y_train, y_test = train_test_split(X,y,test_size=0.2, random_state=42)\n",
    "\n",
    "# X_train.info()\n"
   ]
  },
  {
   "cell_type": "code",
   "execution_count": 11,
   "metadata": {},
   "outputs": [],
   "source": [
    "## Apply data preprocessing\n",
    "X_train = preprocessor.fit_transform(X_train)\n",
    "X_test = preprocessor.transform(X_test)"
   ]
  },
  {
   "cell_type": "code",
   "execution_count": 12,
   "metadata": {},
   "outputs": [],
   "source": [
    "## Convert Numpy to tensors\n",
    "import torch\n",
    "X_train_tensor = torch.tensor(X_train, dtype=torch.float32)\n",
    "X_test_tensor = torch.tensor(X_test, dtype= torch.float32)\n",
    "y_train_tensor = torch.tensor(y_train, dtype=torch.float32)\n",
    "y_test_tensor = torch.tensor(y_test.values.reshape(-1,1), dtype=torch.float32)"
   ]
  },
  {
   "cell_type": "code",
   "execution_count": 13,
   "metadata": {},
   "outputs": [
    {
     "data": {
      "image/png": "[encoded data removed]",
      "text/plain": [
       "<Figure size 640x480 with 1 Axes>"
      ]
     },
     "metadata": {},
     "output_type": "display_data"
    }
   ],
   "source": [
    "import matplotlib.pyplot as plt\n",
    "plt.hist(y_train_tensor, bins = 100)\n",
    "plt.show()"
   ]
  },
  {
   "cell_type": "markdown",
   "metadata": {},
   "source": [
    "## Defining custom loss function"
   ]
  },
  {
   "cell_type": "code",
   "execution_count": 36,
   "metadata": {},
   "outputs": [],
   "source": [
    "def rms_log_error(y_pred, y_true):\n",
    "    \n",
    "    # adding 1 to mitigate log(0) error\n",
    "    y_pred = torch.clamp(y_pred, min= 0) + 1\n",
    "    y_true = torch.clamp(y_true, min= 0) + 1\n",
    "    \n",
    "    # compute logarithms and then compute squared difference\n",
    "    log_pred = torch.log(y_pred)\n",
    "    log_true = torch.log(y_true)\n",
    "    \n",
    "    squared_log_error = (log_pred - log_true) ** 2\n",
    "    \n",
    "    # Compute mean and then sqrt\n",
    "    mean_sqaure_log_error = torch.mean(squared_log_error)\n",
    "    \n",
    "    rms_log_err = torch.sqrt(mean_sqaure_log_error)\n",
    "    \n",
    "    return rms_log_err\n",
    "        \n",
    "    "
   ]
  },
  {
   "cell_type": "code",
   "execution_count": 37,
   "metadata": {},
   "outputs": [],
   "source": [
    "from torch.utils.data import TensorDataset, DataLoader\n",
    "train_data = TensorDataset(X_train_tensor,y_train_tensor)"
   ]
  },
  {
   "cell_type": "code",
   "execution_count": 38,
   "metadata": {},
   "outputs": [],
   "source": [
    "\n",
    "## define network\n",
    "class Net(nn.Module):\n",
    "    def __init__(self):\n",
    "        super(Net,self).__init__()\n",
    "        #initializing layers\n",
    "        self.fc1 = nn.Linear(X_train_tensor.shape[1],128)\n",
    "        self.fc2 = nn.Linear(128,64)\n",
    "        self.fc3 = nn.Linear(64,32)\n",
    "        self.fc4 = nn.Linear(32,1)\n",
    "    \n",
    "    #define activation functions\n",
    "    def forward(self, x):\n",
    "        x = F.relu(self.fc1(x))\n",
    "        x = F.relu(self.fc2(x))\n",
    "        x = F.relu(self.fc3(x))\n",
    "        x = self.fc4(x)\n",
    "        \n",
    "        return x"
   ]
  },
  {
   "cell_type": "code",
   "execution_count": 39,
   "metadata": {},
   "outputs": [
    {
     "name": "stdout",
     "output_type": "stream",
     "text": [
      "Epoch 5: Train Loss: 2.4569, Test Loss: 2.4836\n",
      "Epoch 10: Train Loss: 1.5236, Test Loss: 1.5428\n",
      "Epoch 15: Train Loss: 1.3553, Test Loss: 1.3658\n",
      "Epoch 20: Train Loss: 1.3257, Test Loss: 1.3310\n"
     ]
    },
    {
     "ename": "RuntimeError",
     "evalue": "[enforce fail at ..\\c10\\core\\impl\\alloc_cpu.cpp:72] data. DefaultCPUAllocator: not enough memory: you tried to allocate 2757510144 bytes.",
     "output_type": "error",
     "traceback": [
      "\u001b[1;31m---------------------------------------------------------------------------\u001b[0m",
      "\u001b[1;31mRuntimeError\u001b[0m                              Traceback (most recent call last)",
      "Cell \u001b[1;32mIn[39], line 23\u001b[0m\n\u001b[0;32m     20\u001b[0m     loss\u001b[38;5;241m.\u001b[39mbackward()\n\u001b[0;32m     21\u001b[0m     optimizer\u001b[38;5;241m.\u001b[39mstep()    \n\u001b[1;32m---> 23\u001b[0m train_loss \u001b[38;5;241m=\u001b[39m rms_log_error(model(X_train_tensor), y_train_tensor)\n\u001b[0;32m     24\u001b[0m test_loss \u001b[38;5;241m=\u001b[39m rms_log_error(model(X_test_tensor), y_test_tensor)\n\u001b[0;32m     25\u001b[0m train_loss_list\u001b[38;5;241m.\u001b[39mappend(train_loss)\n",
      "Cell \u001b[1;32mIn[36], line 11\u001b[0m, in \u001b[0;36mrms_log_error\u001b[1;34m(y_pred, y_true)\u001b[0m\n\u001b[0;32m      8\u001b[0m log_pred \u001b[38;5;241m=\u001b[39m torch\u001b[38;5;241m.\u001b[39mlog(y_pred)\n\u001b[0;32m      9\u001b[0m log_true \u001b[38;5;241m=\u001b[39m torch\u001b[38;5;241m.\u001b[39mlog(y_true)\n\u001b[1;32m---> 11\u001b[0m squared_log_error \u001b[38;5;241m=\u001b[39m (log_pred \u001b[38;5;241m-\u001b[39m log_true) \u001b[38;5;241m*\u001b[39m\u001b[38;5;241m*\u001b[39m \u001b[38;5;241m2\u001b[39m\n\u001b[0;32m     13\u001b[0m \u001b[38;5;66;03m# Compute mean and then sqrt\u001b[39;00m\n\u001b[0;32m     14\u001b[0m mean_sqaure_log_error \u001b[38;5;241m=\u001b[39m torch\u001b[38;5;241m.\u001b[39mmean(squared_log_error)\n",
      "File \u001b[1;32mc:\\Users\\scientist-ns\\anaconda3\\Lib\\site-packages\\torch\\_tensor.py:40\u001b[0m, in \u001b[0;36m_handle_torch_function_and_wrap_type_error_to_not_implemented.<locals>.wrapped\u001b[1;34m(*args, **kwargs)\u001b[0m\n\u001b[0;32m     38\u001b[0m     \u001b[38;5;28;01mif\u001b[39;00m has_torch_function(args):\n\u001b[0;32m     39\u001b[0m         \u001b[38;5;28;01mreturn\u001b[39;00m handle_torch_function(wrapped, args, \u001b[38;5;241m*\u001b[39margs, \u001b[38;5;241m*\u001b[39m\u001b[38;5;241m*\u001b[39mkwargs)\n\u001b[1;32m---> 40\u001b[0m     \u001b[38;5;28;01mreturn\u001b[39;00m f(\u001b[38;5;241m*\u001b[39margs, \u001b[38;5;241m*\u001b[39m\u001b[38;5;241m*\u001b[39mkwargs)\n\u001b[0;32m     41\u001b[0m \u001b[38;5;28;01mexcept\u001b[39;00m \u001b[38;5;167;01mTypeError\u001b[39;00m:\n\u001b[0;32m     42\u001b[0m     \u001b[38;5;28;01mreturn\u001b[39;00m \u001b[38;5;28mNotImplemented\u001b[39m\n",
      "\u001b[1;31mRuntimeError\u001b[0m: [enforce fail at ..\\c10\\core\\impl\\alloc_cpu.cpp:72] data. DefaultCPUAllocator: not enough memory: you tried to allocate 2757510144 bytes."
     ]
    }
   ],
   "source": [
    "## Training with SGD and momentun 0.9\n",
    "\n",
    "model = Net()\n",
    "train_loss_list = []\n",
    "test_loss_list = []\n",
    "num_epochs = 30\n",
    "optimizer = optim.SGD(model.parameters(),lr = 0.001, momentum=0.9)\n",
    "\n",
    "train_loader = DataLoader(train_data, batch_size=128, shuffle=True)\n",
    "#Executing the training loop\n",
    "\n",
    "for epoch in range(num_epochs):\n",
    "    for X_batch,y_batch in train_loader:\n",
    "        #forward pass\n",
    "        pred = model(X_batch)\n",
    "        loss = rms_log_error(pred, y_batch)\n",
    "        \n",
    "        #backward pass\n",
    "        model.zero_grad()\n",
    "        loss.backward()\n",
    "        optimizer.step()    \n",
    "    \n",
    "    train_loss = rms_log_error(model(X_train_tensor), y_train_tensor)\n",
    "    test_loss = rms_log_error(model(X_test_tensor), y_test_tensor)\n",
    "    train_loss_list.append(train_loss)\n",
    "    test_loss_list.append(test_loss)\n",
    "    \n",
    "    if (epoch+1) % 5 == 0: # printing after every 5 epochs\n",
    "        print(f'Epoch {epoch+1}: Train Loss: {train_loss:.4f}, Test Loss: {test_loss:.4f}')\n",
    "        "
   ]
  },
  {
   "cell_type": "markdown",
   "metadata": {},
   "source": [
    "* Using Adam optimizer  \n",
    "* Increasing the number of neurons in hidden layers \n",
    "* Changing the batch size from "
   ]
  },
  {
   "cell_type": "code",
   "execution_count": 40,
   "metadata": {},
   "outputs": [],
   "source": [
    "\n",
    "## define network\n",
    "# Bigger network, Bigger Batch size and ADAM Optimizer\n",
    "class Net(nn.Module):\n",
    "    def __init__(self):\n",
    "        super(Net,self).__init__()\n",
    "        #initializing layers\n",
    "        self.fc1 = nn.Linear(X_train_tensor.shape[1],512)\n",
    "        self.fc2 = nn.Linear(512,128)\n",
    "        self.fc3 = nn.Linear(128,32)\n",
    "        self.fc4 = nn.Linear(32,1)\n",
    "    \n",
    "    #define activation functions\n",
    "    def forward(self, x):\n",
    "        x = F.relu(self.fc1(x))\n",
    "        x = F.relu(self.fc2(x))\n",
    "        x = F.relu(self.fc3(x))\n",
    "        x = self.fc4(x)\n",
    "        \n",
    "        return x"
   ]
  },
  {
   "cell_type": "code",
   "execution_count": 41,
   "metadata": {},
   "outputs": [
    {
     "name": "stdout",
     "output_type": "stream",
     "text": [
      "Epoch 5: Train Loss: 1.3207, Test Loss: 1.3084\n",
      "Epoch 10: Train Loss: 1.3156, Test Loss: 1.3035\n",
      "Epoch 15: Train Loss: 1.3147, Test Loss: 1.3032\n"
     ]
    },
    {
     "ename": "RuntimeError",
     "evalue": "[enforce fail at ..\\c10\\core\\impl\\alloc_cpu.cpp:72] data. DefaultCPUAllocator: not enough memory: you tried to allocate 2757510144 bytes.",
     "output_type": "error",
     "traceback": [
      "\u001b[1;31m---------------------------------------------------------------------------\u001b[0m",
      "\u001b[1;31mRuntimeError\u001b[0m                              Traceback (most recent call last)",
      "Cell \u001b[1;32mIn[41], line 21\u001b[0m\n\u001b[0;32m     18\u001b[0m     loss\u001b[38;5;241m.\u001b[39mbackward()\n\u001b[0;32m     19\u001b[0m     optimizer\u001b[38;5;241m.\u001b[39mstep()    \n\u001b[1;32m---> 21\u001b[0m train_loss \u001b[38;5;241m=\u001b[39m rms_log_error(model(X_train_tensor), y_train_tensor)\n\u001b[0;32m     22\u001b[0m test_loss \u001b[38;5;241m=\u001b[39m rms_log_error(model(X_test_tensor), y_test_tensor)\n\u001b[0;32m     23\u001b[0m train_loss_list\u001b[38;5;241m.\u001b[39mappend(train_loss)\n",
      "Cell \u001b[1;32mIn[36], line 11\u001b[0m, in \u001b[0;36mrms_log_error\u001b[1;34m(y_pred, y_true)\u001b[0m\n\u001b[0;32m      8\u001b[0m log_pred \u001b[38;5;241m=\u001b[39m torch\u001b[38;5;241m.\u001b[39mlog(y_pred)\n\u001b[0;32m      9\u001b[0m log_true \u001b[38;5;241m=\u001b[39m torch\u001b[38;5;241m.\u001b[39mlog(y_true)\n\u001b[1;32m---> 11\u001b[0m squared_log_error \u001b[38;5;241m=\u001b[39m (log_pred \u001b[38;5;241m-\u001b[39m log_true) \u001b[38;5;241m*\u001b[39m\u001b[38;5;241m*\u001b[39m \u001b[38;5;241m2\u001b[39m\n\u001b[0;32m     13\u001b[0m \u001b[38;5;66;03m# Compute mean and then sqrt\u001b[39;00m\n\u001b[0;32m     14\u001b[0m mean_sqaure_log_error \u001b[38;5;241m=\u001b[39m torch\u001b[38;5;241m.\u001b[39mmean(squared_log_error)\n",
      "File \u001b[1;32mc:\\Users\\scientist-ns\\anaconda3\\Lib\\site-packages\\torch\\_tensor.py:40\u001b[0m, in \u001b[0;36m_handle_torch_function_and_wrap_type_error_to_not_implemented.<locals>.wrapped\u001b[1;34m(*args, **kwargs)\u001b[0m\n\u001b[0;32m     38\u001b[0m     \u001b[38;5;28;01mif\u001b[39;00m has_torch_function(args):\n\u001b[0;32m     39\u001b[0m         \u001b[38;5;28;01mreturn\u001b[39;00m handle_torch_function(wrapped, args, \u001b[38;5;241m*\u001b[39margs, \u001b[38;5;241m*\u001b[39m\u001b[38;5;241m*\u001b[39mkwargs)\n\u001b[1;32m---> 40\u001b[0m     \u001b[38;5;28;01mreturn\u001b[39;00m f(\u001b[38;5;241m*\u001b[39margs, \u001b[38;5;241m*\u001b[39m\u001b[38;5;241m*\u001b[39mkwargs)\n\u001b[0;32m     41\u001b[0m \u001b[38;5;28;01mexcept\u001b[39;00m \u001b[38;5;167;01mTypeError\u001b[39;00m:\n\u001b[0;32m     42\u001b[0m     \u001b[38;5;28;01mreturn\u001b[39;00m \u001b[38;5;28mNotImplemented\u001b[39m\n",
      "\u001b[1;31mRuntimeError\u001b[0m: [enforce fail at ..\\c10\\core\\impl\\alloc_cpu.cpp:72] data. DefaultCPUAllocator: not enough memory: you tried to allocate 2757510144 bytes."
     ]
    }
   ],
   "source": [
    "model = Net()\n",
    "train_loss_list = []\n",
    "test_loss_list = []\n",
    "num_epochs = 30\n",
    "optimizer = optim.Adam(model.parameters())\n",
    "\n",
    "train_loader = DataLoader(train_data, batch_size=128, shuffle=True)\n",
    "#Executing the training loop\n",
    "\n",
    "for epoch in range(num_epochs):\n",
    "    for X_batch,y_batch in train_loader:\n",
    "        #forward pass\n",
    "        pred = model(X_batch)\n",
    "        loss = rms_log_error(pred, y_batch)\n",
    "        \n",
    "        #backward pass\n",
    "        model.zero_grad()\n",
    "        loss.backward()\n",
    "        optimizer.step()    \n",
    "    \n",
    "    train_loss = rms_log_error(model(X_train_tensor), y_train_tensor)\n",
    "    test_loss = rms_log_error(model(X_test_tensor), y_test_tensor)\n",
    "    train_loss_list.append(train_loss)\n",
    "    test_loss_list.append(test_loss)\n",
    "    \n",
    "    if (epoch+1) % 5 == 0: # printing after every 5 epochs\n",
    "        print(f'Epoch {epoch+1}: Train Loss: {train_loss:.4f}, Test Loss: {test_loss:.4f}')"
   ]
  },
  {
   "cell_type": "code",
   "execution_count": null,
   "metadata": {},
   "outputs": [],
   "source": []
  }
 ],
 "metadata": {
  "kernelspec": {
   "display_name": "base",
   "language": "python",
   "name": "python3"
  },
  "language_info": {
   "codemirror_mode": {
    "name": "ipython",
    "version": 3
   },
   "file_extension": ".py",
   "mimetype": "text/x-python",
   "name": "python",
   "nbconvert_exporter": "python",
   "pygments_lexer": "ipython3",
   "version": "3.11.7"
  }
 },
 "nbformat": 4,
 "nbformat_minor": 2
}
